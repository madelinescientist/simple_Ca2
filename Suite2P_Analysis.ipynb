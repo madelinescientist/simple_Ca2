{
 "cells": [
  {
   "cell_type": "markdown",
   "metadata": {},
   "source": [
    "# 1. Raw Data Visualization and Preprocessing"
   ]
  },
  {
   "cell_type": "code",
   "execution_count": 5,
   "metadata": {},
   "outputs": [
    {
     "name": "stdout",
     "output_type": "stream",
     "text": [
      "/Users/madeline/Documents/Ca2\n"
     ]
    }
   ],
   "source": [
    "# load data from local source\n",
    "import numpy as np\n",
    "Fraw = np.load('./example_mice/JUV015/220408/F.npy')\n",
    "ops = np.load('./example_mice/JUV015/220408/ops.npy',allow_pickle=True)\n",
    "neuropil = np.load('./example_mice/JUV015/220408/Fneu.npy')\n",
    "cells = np.load('./example_mice/JUV015/220408/iscell.npy')\n",
    "stat = np.load('./example_mice/JUV015/220408/stat.npy',allow_pickle=True)"
   ]
  },
  {
   "cell_type": "code",
   "execution_count": 2,
   "metadata": {},
   "outputs": [
    {
     "data": {
      "image/png": "[encoded data removed]",
      "text/plain": [
       "<Figure size 720x720 with 1 Axes>"
      ]
     },
     "metadata": {
      "needs_background": "light"
     },
     "output_type": "display_data"
    }
   ],
   "source": [
    "# plot ROIs\n",
    "\n",
    "from matplotlib import pyplot as plt \n",
    "import random\n",
    "im = np.zeros((256,256))\n",
    "for cell in range(0,cells.shape[0]):\n",
    "    if cells[cell,0] > 0:\n",
    "        xs = stat[cell]['xpix']\n",
    "        ys = stat[cell]['ypix']\n",
    "        im[ys, xs] = random.random()\n",
    "fig = plt.figure(figsize=(10,10))\n",
    "pos = plt.imshow(im, cmap='CMRmap')"
   ]
  },
  {
   "cell_type": "code",
   "execution_count": 6,
   "metadata": {},
   "outputs": [],
   "source": [
    "# preprocessing\n",
    "\n",
    "F = Fraw - neuropil*0.7 # subtract neuropil\n",
    "\n",
    "# find number of cells\n",
    "numcells = 0\n",
    "for cell in range(0,len(cells)):\n",
    "    if cells[cell,0] == 1.0: # if ROI is a cell\n",
    "        numcells += 1\n",
    "\n",
    "Fcells = np.zeros((numcells,F.shape[1])) # create new F matrix with only data from ROIs that are cells\n",
    "counter = 0\n",
    "for cell in range(0,len(cells)):\n",
    "    if cells[cell,0] == 1.0: # if ROI is a cell\n",
    "        Fcells[counter] = F[cell]\n",
    "        counter += 1"
   ]
  },
  {
   "cell_type": "code",
   "execution_count": 7,
   "metadata": {},
   "outputs": [],
   "source": [
    "# Alternative possible calculations of F0\n",
    "\n",
    "#F = Fraw - neuropil*0.7 # subtract neuropil   \n",
    "\n",
    "#F0 = [] # method 1 for F0\n",
    "#for roi in range(0,F.shape[0]):\n",
    "#    include_frames = []\n",
    "#    std = np.std(F[roi])\n",
    "#    avg = np.mean(F[roi])\n",
    "#    for frame in range(0,F.shape[1]):\n",
    "#        if F[roi, frame] < std+avg:\n",
    "#            include_frames.append(F[roi,frame])\n",
    "#    F0.append(np.mean(include_frames))\n",
    "    \n",
    "#F0_med = np.median(F,1)\n",
    "#F0_8pc = np.percentile(F,8,1)\n",
    "\n",
    "#x = 500\n",
    "#F0_mov = np.zeros(F.shape)\n",
    "#for roi in range(0,F.shape[0]):\n",
    "#    for frame in range(0,F.shape[1]):\n",
    "#        if frame == 0:\n",
    "#            avg = F[roi, 0]\n",
    "#        elif frame < x:\n",
    "#            avg = np.mean(F[roi, 0:frame])\n",
    "#        elif frame > F.shape[1] - x:\n",
    "#            avg = np.mean(F[roi, frame:])\n",
    "#        elif F.shape[1] - x > frame > x:\n",
    "#            avg = np.mean(F[roi, frame-x:frame+x])\n",
    "#        F0_mov[roi, frame] = avg"
   ]
  },
  {
   "cell_type": "code",
   "execution_count": 8,
   "metadata": {},
   "outputs": [
    {
     "name": "stdout",
     "output_type": "stream",
     "text": [
      "/Users/madeline\n",
      "[Errno 2] No such file or directory: 'U19_CADA_analysis/ # F0 from Albert'\n",
      "/Users/madeline\n",
      "/Users\n"
     ]
    }
   ],
   "source": [
    "# F0 and dF/F calculations\n",
    "\n",
    "%cd U19_CADA_analysis/ # F0 from Albert\n",
    "from utils import robust_filter\n",
    "F0_AQ = np.zeros(Fcells.shape)\n",
    "for cell in range(Fcells.shape[0]):\n",
    "    F0_AQ[cell] = robust_filter(Fcells[cell], method=12, window=200, optimize_window=2, buffer=False)[:, 0]\n",
    "%cd ..\n",
    "\n",
    "dFF = np.zeros(Fcells.shape) # d\n",
    "for cell in range(0,Fcells.shape[0]):\n",
    "    for frame in range(0,Fcells.shape[1]):\n",
    "        dFF[cell, frame] = (Fcells[cell, frame] - F0_AQ[cell, frame]) / F0_AQ[cell, frame]"
   ]
  },
  {
   "cell_type": "code",
   "execution_count": null,
   "metadata": {},
   "outputs": [],
   "source": [
    "# plot ROI next to its fluorescence trace!\n",
    "\n",
    "counter = -1\n",
    "for cell in range(0,cells.shape[0]):\n",
    "    if cells[cell,0] > 0:\n",
    "        counter += 1\n",
    "        im = np.zeros((212,212))\n",
    "        xs = stat[cell]['xpix']\n",
    "        ys = stat[cell]['ypix']\n",
    "        im[ys, xs] = random.random()\n",
    "        plt.figure(figsize=(16,4))\n",
    "        #fig, ax = plt.subplots(1, 2, gridspec_kw={'width_ratios': [1, 3]})\n",
    "        plt.subplot(1, 2, 1)\n",
    "        plt.imshow(im, cmap='CMRmap')\n",
    "        plt.subplot(1, 2, 2)\n",
    "        plt.plot(dFF[counter,15000:20000], label = \"ROI no.\" + str(cell) + \"; Cell no.\" + str(counter))\n",
    "        plt.legend()"
   ]
  },
  {
   "cell_type": "markdown",
   "metadata": {},
   "source": [
    "# 2. Establishing Baseline Activity\n",
    "For use in determining significance of fluorescent response to cues. Written by Albert!"
   ]
  },
  {
   "cell_type": "code",
   "execution_count": 19,
   "metadata": {},
   "outputs": [],
   "source": [
    "# load behavior info\n",
    "import pandas as pd\n",
    "behav = pd.read_csv(r'./example_mice/JUV015/220408/JUV015_220408_behavior_output.csv')\n",
    "import h5py\n",
    "with h5py.File(r'./example_mice/JUV015/220408/JUV015_220408_behaviorLOG.mat', 'r') as hf:\n",
    "    frame_time = np.array(hf['out/frame_time']).ravel()"
   ]
  },
  {
   "cell_type": "code",
   "execution_count": 20,
   "metadata": {},
   "outputs": [],
   "source": [
    "# calculate baseline level of activity\n",
    "\n",
    "from statsmodels.tsa.tsatools import lagmat\n",
    "from scipy.interpolate import interp1d\n",
    "\n",
    "def get_baseline_activities(y, X, future, past, fr=None):\n",
    "    \"\"\" Select regions where covariate X has no effect on y after lagging.\n",
    "    y: recording time series (neural data)\n",
    "    X: 2D matrix, various covariations\n",
    "    future/past = pre/post: Lag X backward by `pre` frames and forward by `post` frames, if fr \n",
    "    is unspecified, otherwise pre/post specifies the lag in seconds.\n",
    "    pre = length of future effects, post = length of past effects \n",
    "    NOTE: **drops 'edges' automatically, see 'valid' mode in np.convolve**\n",
    "    \"\"\"\n",
    "    # uniform lag everywhere\n",
    "    pre, post = future, past\n",
    "    if len(X.shape) == 1:\n",
    "        X = X[:, np.newaxis]\n",
    "    assert len(X.shape) == 2, 'reshape covariate to 2D'\n",
    "    if fr is not None:\n",
    "        pre, post = int(pre * fr), int(post * fr)\n",
    "    y_t = y[pre:len(y)-post]\n",
    "    X_lag = lagmat(X, pre+post, trim=\"none\", original='in')\n",
    "    X_lag = X_lag[post+pre:len(X_lag)-(pre+post)]\n",
    "    return y_t[np.sum(np.abs(X_lag), axis=1) == 0]\n",
    "\n",
    "def samples_to_discrete_timeseries(ts, xs=None, method='integration', fr=20, tmax=None):\n",
    "    \"\"\" Turns potentially unevenly sampled timeseries into evenly sampled time series\n",
    "\n",
    "    method: str\n",
    "        integration: discretize through integration\n",
    "        interp: resample data via interpolation\n",
    "        state: resample data via interpolation approach using `traces` package\n",
    "    \"\"\"\n",
    "    if xs is None:\n",
    "        assert (method == 'integration'), 'must use integration method for binary timeseries'\n",
    "        xs = np.full_like(ts, 1)\n",
    "    if tmax is None:\n",
    "        tmax = np.max(ts)\n",
    "    dt = 1 / fr\n",
    "    nT = np.floor(tmax / dt) + 1\n",
    "    T = nT * dt\n",
    "    ts_new = np.arange(0, T+dt, dt)\n",
    "    if method == 'integration':\n",
    "        ys, _ = np.histogram(ts, np.concatenate([ts_new, [ts_new[-1]+dt]]))\n",
    "    elif method == 'interp':\n",
    "        ys = interp1d(ts, xs, fill_value='extrapolate')(ts_new)\n",
    "    elif method == 'state':\n",
    "        assert 'traces' in globals(), 'traces must be installed'\n",
    "    else:\n",
    "        raise NotImplementedError(f'unknown method {method}')\n",
    "    return ts_new, ys"
   ]
  },
  {
   "cell_type": "code",
   "execution_count": 21,
   "metadata": {},
   "outputs": [],
   "source": [
    "beh_cols = ['outcome', 'first_lick_in', 'onset'] # select behavioral events\n",
    "behavior_times = behav[beh_cols].values.T # processes structure of csv to create time stamps\n",
    "tmax = max(60 * 60, np.nanmax(behavior_times)) \n",
    "X = []\n",
    "for i in range(len(behavior_times)): # discretizes time stamps\n",
    "    btimes = behavior_times[i]\n",
    "    ti, xi = samples_to_discrete_timeseries(btimes[~np.isnan(btimes)], xs=None, method='integration', fr=8.052, tmax=tmax)\n",
    "    X.append(xi)\n",
    "X = np.array(X).T"
   ]
  },
  {
   "cell_type": "code",
   "execution_count": 22,
   "metadata": {},
   "outputs": [],
   "source": [
    "# calculate baseline for all cells\n",
    "i = 0\n",
    "baselines = [None] * len(dFF)\n",
    "for i in range(len(dFF)):\n",
    "    tj,y = samples_to_discrete_timeseries(frame_time, dFF[i], method='interp', fr=8.052, tmax=tmax)\n",
    "    baselines[i] = y\n",
    "baselines = np.vstack(baselines).T\n",
    "safe_region = tj >= frame_time.min()\n",
    "baselines = get_baseline_activities(baselines[safe_region], X[safe_region, :], 2, 2, fr=8.052).T\n"
   ]
  },
  {
   "cell_type": "code",
   "execution_count": 27,
   "metadata": {},
   "outputs": [],
   "source": [
    "## optional plot of baseline\n",
    "#import scipy.stats\n",
    "#from scipy.stats import bootstrap\n",
    "#i = 0\n",
    "#plt.plot(frame_time, dFF[i])\n",
    "#xmean = np.mean(baselines[i])\n",
    "#bounds = np.std(baselines[i]) / np.sqrt(len(baselines[i]))\n",
    "#tlow, thigh = xmean - bounds, xmean+bounds\n",
    "## res = bootstrap(baseline, np.mean, confidence_level=0.9)\n",
    "## tlow, thigh = res.confidence_interval\n",
    "#plt.fill_between(tj, tlow, thigh, alpha=0.3, color='r')\n",
    "#plt.axhline(xmean, ls='-', color='r')"
   ]
  },
  {
   "cell_type": "markdown",
   "metadata": {},
   "source": [
    "# 3. Aligning Ca2+ Imaging Data to Behavior\n",
    "Note: this is adapted from Nick's pipeline_behavioral_albert notebook. It requires a modified version of behavioral_albert.py to run correctly! Modify lines 149-161 with the F0 and dFF calculations from above."
   ]
  },
  {
   "cell_type": "code",
   "execution_count": 23,
   "metadata": {},
   "outputs": [
    {
     "name": "stdout",
     "output_type": "stream",
     "text": [
      "/Users/madeline/Documents/Ca2/madeline_analysis\n"
     ]
    }
   ],
   "source": [
    "%cd madeline_analysis/\n",
    "from behavioral_albert_MKedit import *\n",
    "logging.getLogger().setLevel(logging.WARNING)\n",
    "%matplotlib inline\n"
   ]
  },
  {
   "cell_type": "code",
   "execution_count": 24,
   "metadata": {},
   "outputs": [
    {
     "ename": "NameError",
     "evalue": "name 'gse' is not defined",
     "output_type": "error",
     "traceback": [
      "\u001b[0;31m---------------------------------------------------------------------------\u001b[0m",
      "\u001b[0;31mNameError\u001b[0m                                 Traceback (most recent call last)",
      "\u001b[0;32m<ipython-input-24-3883041ff22d>\u001b[0m in \u001b[0;36m<module>\u001b[0;34m\u001b[0m\n\u001b[0;32m----> 1\u001b[0;31m \u001b[0mgse\u001b[0m\u001b[0;34m.\u001b[0m\u001b[0mencode_to_filename\u001b[0m\u001b[0;34m(\u001b[0m\u001b[0manimal\u001b[0m\u001b[0;34m,\u001b[0m \u001b[0msession\u001b[0m\u001b[0;34m,\u001b[0m \u001b[0;34m[\u001b[0m\u001b[0;34m'log'\u001b[0m\u001b[0;34m]\u001b[0m\u001b[0;34m)\u001b[0m\u001b[0;34m\u001b[0m\u001b[0;34m\u001b[0m\u001b[0m\n\u001b[0m",
      "\u001b[0;31mNameError\u001b[0m: name 'gse' is not defined"
     ]
    }
   ],
   "source": [
    "gse.encode_to_filename(animal, session, ['log']) # error: gse is not defined"
   ]
  },
  {
   "cell_type": "code",
   "execution_count": 25,
   "metadata": {},
   "outputs": [
    {
     "name": "stdout",
     "output_type": "stream",
     "text": [
      "Changing plot_path as /Volumes/Wilbrecht_file_server/Madeline/plots\n"
     ]
    },
    {
     "ename": "PermissionError",
     "evalue": "[Errno 13] Permission denied: '/Volumes/Wilbrecht_file_server'",
     "output_type": "error",
     "traceback": [
      "\u001b[0;31m---------------------------------------------------------------------------\u001b[0m",
      "\u001b[0;31mPermissionError\u001b[0m                           Traceback (most recent call last)",
      "\u001b[0;32m<ipython-input-25-22f24f8b7025>\u001b[0m in \u001b[0;36m<module>\u001b[0;34m\u001b[0m\n\u001b[1;32m      1\u001b[0m \u001b[0mdata_root\u001b[0m \u001b[0;34m=\u001b[0m \u001b[0;34mr'/Volumes/Wilbrecht_file_server/Madeline/processed_data'\u001b[0m\u001b[0;34m\u001b[0m\u001b[0;34m\u001b[0m\u001b[0m\n\u001b[0;32m----> 2\u001b[0;31m \u001b[0mgse\u001b[0m \u001b[0;34m=\u001b[0m \u001b[0mGoNoGo_Expr\u001b[0m\u001b[0;34m(\u001b[0m\u001b[0mdata_root\u001b[0m\u001b[0;34m)\u001b[0m\u001b[0;34m\u001b[0m\u001b[0;34m\u001b[0m\u001b[0m\n\u001b[0m\u001b[1;32m      3\u001b[0m \u001b[0manimal\u001b[0m\u001b[0;34m,\u001b[0m \u001b[0msession\u001b[0m \u001b[0;34m=\u001b[0m \u001b[0;34m'JUV015'\u001b[0m\u001b[0;34m,\u001b[0m \u001b[0;34m'220408'\u001b[0m\u001b[0;34m\u001b[0m\u001b[0;34m\u001b[0m\u001b[0m\n\u001b[1;32m      4\u001b[0m \u001b[0mbmat\u001b[0m\u001b[0;34m,\u001b[0m \u001b[0mgn_series\u001b[0m \u001b[0;34m=\u001b[0m \u001b[0mgse\u001b[0m\u001b[0;34m.\u001b[0m\u001b[0mload_animal_session\u001b[0m\u001b[0;34m(\u001b[0m\u001b[0manimal\u001b[0m\u001b[0;34m,\u001b[0m \u001b[0msession\u001b[0m\u001b[0;34m)\u001b[0m\u001b[0;34m\u001b[0m\u001b[0;34m\u001b[0m\u001b[0m\n\u001b[1;32m      5\u001b[0m \u001b[0mbdf\u001b[0m\u001b[0;34m,\u001b[0m \u001b[0mdff_df\u001b[0m \u001b[0;34m=\u001b[0m \u001b[0mbmat\u001b[0m\u001b[0;34m.\u001b[0m\u001b[0mtodf\u001b[0m\u001b[0;34m(\u001b[0m\u001b[0;34m)\u001b[0m\u001b[0;34m,\u001b[0m \u001b[0mgn_series\u001b[0m\u001b[0;34m.\u001b[0m\u001b[0mcalculate_dff\u001b[0m\u001b[0;34m(\u001b[0m\u001b[0;34m)\u001b[0m\u001b[0;34m\u001b[0m\u001b[0;34m\u001b[0m\u001b[0m\n",
      "\u001b[0;32m~/Documents/Ca2/madeline_analysis/behavioral_albert_MKedit.py\u001b[0m in \u001b[0;36m__init__\u001b[0;34m(self, folder, **kwargs)\u001b[0m\n\u001b[1;32m    284\u001b[0m         \u001b[0mprint\u001b[0m\u001b[0;34m(\u001b[0m\u001b[0;34mf'Changing plot_path as {self.plot_path}'\u001b[0m\u001b[0;34m)\u001b[0m\u001b[0;34m\u001b[0m\u001b[0;34m\u001b[0m\u001b[0m\n\u001b[1;32m    285\u001b[0m         \u001b[0;32mif\u001b[0m \u001b[0;32mnot\u001b[0m \u001b[0mos\u001b[0m\u001b[0;34m.\u001b[0m\u001b[0mpath\u001b[0m\u001b[0;34m.\u001b[0m\u001b[0mexists\u001b[0m\u001b[0;34m(\u001b[0m\u001b[0mself\u001b[0m\u001b[0;34m.\u001b[0m\u001b[0mplot_path\u001b[0m\u001b[0;34m)\u001b[0m\u001b[0;34m:\u001b[0m\u001b[0;34m\u001b[0m\u001b[0;34m\u001b[0m\u001b[0m\n\u001b[0;32m--> 286\u001b[0;31m             \u001b[0mos\u001b[0m\u001b[0;34m.\u001b[0m\u001b[0mmakedirs\u001b[0m\u001b[0;34m(\u001b[0m\u001b[0mself\u001b[0m\u001b[0;34m.\u001b[0m\u001b[0mplot_path\u001b[0m\u001b[0;34m)\u001b[0m\u001b[0;34m\u001b[0m\u001b[0;34m\u001b[0m\u001b[0m\n\u001b[0m\u001b[1;32m    287\u001b[0m         \u001b[0;32mfor\u001b[0m \u001b[0mkw\u001b[0m \u001b[0;32min\u001b[0m \u001b[0mkwargs\u001b[0m\u001b[0;34m:\u001b[0m\u001b[0;34m\u001b[0m\u001b[0;34m\u001b[0m\u001b[0m\n\u001b[1;32m    288\u001b[0m             \u001b[0;32mif\u001b[0m \u001b[0mhasattr\u001b[0m\u001b[0;34m(\u001b[0m\u001b[0mself\u001b[0m\u001b[0;34m,\u001b[0m \u001b[0mkw\u001b[0m\u001b[0;34m)\u001b[0m\u001b[0;34m:\u001b[0m\u001b[0;34m\u001b[0m\u001b[0;34m\u001b[0m\u001b[0m\n",
      "\u001b[0;32m/opt/anaconda3/lib/python3.7/os.py\u001b[0m in \u001b[0;36mmakedirs\u001b[0;34m(name, mode, exist_ok)\u001b[0m\n\u001b[1;32m    209\u001b[0m     \u001b[0;32mif\u001b[0m \u001b[0mhead\u001b[0m \u001b[0;32mand\u001b[0m \u001b[0mtail\u001b[0m \u001b[0;32mand\u001b[0m \u001b[0;32mnot\u001b[0m \u001b[0mpath\u001b[0m\u001b[0;34m.\u001b[0m\u001b[0mexists\u001b[0m\u001b[0;34m(\u001b[0m\u001b[0mhead\u001b[0m\u001b[0;34m)\u001b[0m\u001b[0;34m:\u001b[0m\u001b[0;34m\u001b[0m\u001b[0;34m\u001b[0m\u001b[0m\n\u001b[1;32m    210\u001b[0m         \u001b[0;32mtry\u001b[0m\u001b[0;34m:\u001b[0m\u001b[0;34m\u001b[0m\u001b[0;34m\u001b[0m\u001b[0m\n\u001b[0;32m--> 211\u001b[0;31m             \u001b[0mmakedirs\u001b[0m\u001b[0;34m(\u001b[0m\u001b[0mhead\u001b[0m\u001b[0;34m,\u001b[0m \u001b[0mexist_ok\u001b[0m\u001b[0;34m=\u001b[0m\u001b[0mexist_ok\u001b[0m\u001b[0;34m)\u001b[0m\u001b[0;34m\u001b[0m\u001b[0;34m\u001b[0m\u001b[0m\n\u001b[0m\u001b[1;32m    212\u001b[0m         \u001b[0;32mexcept\u001b[0m \u001b[0mFileExistsError\u001b[0m\u001b[0;34m:\u001b[0m\u001b[0;34m\u001b[0m\u001b[0;34m\u001b[0m\u001b[0m\n\u001b[1;32m    213\u001b[0m             \u001b[0;31m# Defeats race condition when another thread created the path\u001b[0m\u001b[0;34m\u001b[0m\u001b[0;34m\u001b[0m\u001b[0;34m\u001b[0m\u001b[0m\n",
      "\u001b[0;32m/opt/anaconda3/lib/python3.7/os.py\u001b[0m in \u001b[0;36mmakedirs\u001b[0;34m(name, mode, exist_ok)\u001b[0m\n\u001b[1;32m    209\u001b[0m     \u001b[0;32mif\u001b[0m \u001b[0mhead\u001b[0m \u001b[0;32mand\u001b[0m \u001b[0mtail\u001b[0m \u001b[0;32mand\u001b[0m \u001b[0;32mnot\u001b[0m \u001b[0mpath\u001b[0m\u001b[0;34m.\u001b[0m\u001b[0mexists\u001b[0m\u001b[0;34m(\u001b[0m\u001b[0mhead\u001b[0m\u001b[0;34m)\u001b[0m\u001b[0;34m:\u001b[0m\u001b[0;34m\u001b[0m\u001b[0;34m\u001b[0m\u001b[0m\n\u001b[1;32m    210\u001b[0m         \u001b[0;32mtry\u001b[0m\u001b[0;34m:\u001b[0m\u001b[0;34m\u001b[0m\u001b[0;34m\u001b[0m\u001b[0m\n\u001b[0;32m--> 211\u001b[0;31m             \u001b[0mmakedirs\u001b[0m\u001b[0;34m(\u001b[0m\u001b[0mhead\u001b[0m\u001b[0;34m,\u001b[0m \u001b[0mexist_ok\u001b[0m\u001b[0;34m=\u001b[0m\u001b[0mexist_ok\u001b[0m\u001b[0;34m)\u001b[0m\u001b[0;34m\u001b[0m\u001b[0;34m\u001b[0m\u001b[0m\n\u001b[0m\u001b[1;32m    212\u001b[0m         \u001b[0;32mexcept\u001b[0m \u001b[0mFileExistsError\u001b[0m\u001b[0;34m:\u001b[0m\u001b[0;34m\u001b[0m\u001b[0;34m\u001b[0m\u001b[0m\n\u001b[1;32m    213\u001b[0m             \u001b[0;31m# Defeats race condition when another thread created the path\u001b[0m\u001b[0;34m\u001b[0m\u001b[0;34m\u001b[0m\u001b[0;34m\u001b[0m\u001b[0m\n",
      "\u001b[0;32m/opt/anaconda3/lib/python3.7/os.py\u001b[0m in \u001b[0;36mmakedirs\u001b[0;34m(name, mode, exist_ok)\u001b[0m\n\u001b[1;32m    219\u001b[0m             \u001b[0;32mreturn\u001b[0m\u001b[0;34m\u001b[0m\u001b[0;34m\u001b[0m\u001b[0m\n\u001b[1;32m    220\u001b[0m     \u001b[0;32mtry\u001b[0m\u001b[0;34m:\u001b[0m\u001b[0;34m\u001b[0m\u001b[0;34m\u001b[0m\u001b[0m\n\u001b[0;32m--> 221\u001b[0;31m         \u001b[0mmkdir\u001b[0m\u001b[0;34m(\u001b[0m\u001b[0mname\u001b[0m\u001b[0;34m,\u001b[0m \u001b[0mmode\u001b[0m\u001b[0;34m)\u001b[0m\u001b[0;34m\u001b[0m\u001b[0;34m\u001b[0m\u001b[0m\n\u001b[0m\u001b[1;32m    222\u001b[0m     \u001b[0;32mexcept\u001b[0m \u001b[0mOSError\u001b[0m\u001b[0;34m:\u001b[0m\u001b[0;34m\u001b[0m\u001b[0;34m\u001b[0m\u001b[0m\n\u001b[1;32m    223\u001b[0m         \u001b[0;31m# Cannot rely on checking for EEXIST, since the operating system\u001b[0m\u001b[0;34m\u001b[0m\u001b[0;34m\u001b[0m\u001b[0;34m\u001b[0m\u001b[0m\n",
      "\u001b[0;31mPermissionError\u001b[0m: [Errno 13] Permission denied: '/Volumes/Wilbrecht_file_server'"
     ]
    }
   ],
   "source": [
    "data_root = r'/Volumes/Wilbrecht_file_server/Madeline/processed_data'\n",
    "gse = GoNoGo_Expr(data_root)\n",
    "animal, session = 'JUV015', '220408'\n",
    "bmat, gn_series = gse.load_animal_session(animal, session)\n",
    "bdf, dff_df = bmat.todf(), gn_series.calculate_dff()"
   ]
  },
  {
   "cell_type": "code",
   "execution_count": null,
   "metadata": {},
   "outputs": [],
   "source": [
    "dff_df"
   ]
  },
  {
   "cell_type": "code",
   "execution_count": null,
   "metadata": {},
   "outputs": [],
   "source": [
    "def plot_event(event, neuron_range, sound_range=list(range(1,17)), hue=None, x_axis=None, y_axis=None, palette=None):\n",
    "    neurons = [f'neuron{i}' for i in range(*neuron_range)]\n",
    "    neur_dff_df = dff_df[dff_df['roi'].isin(neurons)].reset_index(drop=True)\n",
    "    nb_df = gse.nbm.align_B2N_dff_ID(bdf, neur_dff_df, [event], form='wide')\n",
    "    plot_df = gse.nbm.lag_wide_df(nb_df, {f'{event}_neur': {'long':True}})\n",
    "    plot_df = plot_df[plot_df['sound_num'].isin(sound_range)]\n",
    "    if x_axis is None:\n",
    "        x_axis = f'{event}_neur_time'\n",
    "    if y_axis is None:\n",
    "        y_axis = f'{event}_neur_ZdFF'\n",
    "    if palette is None:\n",
    "        palette = 'Spectral'\n",
    "    p = sns.relplot(data=plot_df, x=f'{event}_neur_time', y=f'{event}_neur_ZdFF', hue=hue, row='roi', kind='line', palette=palette)\n",
    "    p.set_xlabels(x_axis, fontsize = 15)\n",
    "    p.set_ylabels(y_axis, fontsize = 15)\n",
    "    \n",
    "    # add in col='sound_num' to p = to plot by tone"
   ]
  },
  {
   "cell_type": "code",
   "execution_count": null,
   "metadata": {},
   "outputs": [],
   "source": [
    "plot_event('onset',(89,155),\n",
    "           sound_range=[1,2,3,4,5,6,7,8],\n",
    "           hue='sound_num',\n",
    "           x_axis=\"Aligned to Cue Onset\",\n",
    "           y_axis=\"dF/F\",\n",
    "           palette='seismic')"
   ]
  },
  {
   "cell_type": "markdown",
   "metadata": {},
   "source": [
    "# 4. Test Significance of Fluorescent Responses to Behavioral Events"
   ]
  },
  {
   "cell_type": "markdown",
   "metadata": {},
   "source": [
    "Here I need to write code to compare the fluorescent response in the two(?) seconds following an event to the baseline level of activity calculated above. Steps:\n",
    "1. Align Ca2+ data of one neuron to behavioral event (this is done above)\n",
    "2. Calculate estimated baseline activity for that neuron (done above)\n",
    "3. Conduct a permutation test between the set of baseline activity values and all fluorescence values in our response window (~2s). Alternatively, use another statistical test to compare the average baseline activity value to the average fluorescence value in the response window."
   ]
  },
  {
   "cell_type": "markdown",
   "metadata": {},
   "source": [
    "# 5. Decoder Implementation\n",
    "Adapted from Albert"
   ]
  },
  {
   "cell_type": "code",
   "execution_count": null,
   "metadata": {},
   "outputs": [],
   "source": [
    "from pandas.core.resample import TimeGrouper\n",
    "from sklearn.model_selection import KFold\n",
    "\n",
    "class RR_Decoding(NBExperiment):\n",
    "    RAND = 230\n",
    "\n",
    "    def __init__(self, folder, animals):\n",
    "        self.folder = folder\n",
    "        if isinstance(animals, pd.DataFrame):\n",
    "            self.nb_df = animals\n",
    "        else:\n",
    "            self.nb_df = pd.concat([self.load_nb_df_animal(folder, anim) for anim in animals]) # CHANGE \"load_nb_df_animal\" to ...?\n",
    "        self.nbm = RRNBMat_DC(self.nb_df)\n",
    "        self.col_kws = None\n",
    "\n",
    "    def load_nb_df_animal(self, folder, animal): # not sure how much of this I need?\n",
    "        animal_path = os.path.join(folder, animal)\n",
    "        behavior_cols = ['animal', 'session', 'trial', ] # ADD APPROPRIATE BEHAVIORAL EVENTS\n",
    "        lh_neur_f = os.path.join(animal_path, f'{animal}_NeuralWindow_LH.csv') # looks like this incorporates Ca2+ data but I don't have a csv for mine\n",
    "        behavior = pd.read_csv(os.path.join(animal_path, f'{animal}_behavior_events.csv'),\n",
    "                            skiprows=1, names=behavior_cols) # I think the csv I need was loaded above\n",
    "                    # my behavior csv is JUV015_220408_behavior_output.csv\n",
    "        lh_neur = pd.read_csv(lh_neur_f)\n",
    "        lh_neur.rename(columns={col: f'LH--{col}' for col in lh_neur.columns[3:]}, inplace=True)\n",
    "        nb_df = behavior.merge(lh_neur, 'left', left_on=['animal', 'session', 'trial'], \n",
    "                    right_on=['Animal', 'Session', 'Trial'])\n",
    "        nb_df = nb_df.merge(rh_neur, 'left', left_on=['animal', 'session', 'trial'], \n",
    "                            right_on=['Animal', 'Session', 'Trial'])\n",
    "        return nb_df\n",
    "     \n",
    "# NOT SURE HOW MUCH OF BELOW IS NEEDED!\n",
    "    def divide_to_train_test(self, nb_df, method='80:20'):\n",
    "        if method == '80:20':\n",
    "            test_size = int(nb_df.shape[0] * 0.2)\n",
    "            train_size = nb_df.shape[0] - test_size\n",
    "            nbdf_inds = np.arange(nb_df.shape[0])\n",
    "            np.random.seed(self.RAND)\n",
    "            np.random.shuffle(nbdf_inds)\n",
    "            nb_df_test = nb_df.iloc[nbdf_inds[:test_size], :].reset_index(drop=True)\n",
    "            nb_df_train = nb_df.iloc[nbdf_inds[test_size:], :].reset_index(drop=True)\n",
    "        elif method.startswith('session'):\n",
    "            n_session = int(method.split('-')[1])\n",
    "            id_df = nb_df[['animal']] + '|' + nb_df[['session']]\n",
    "            nb_df['id'] = id_df\n",
    "            uniq_ids = np.unique(id_df)\n",
    "            np.random.seed(self.RAND)\n",
    "            np.random.shuffle(nbdf_inds)\n",
    "            test_ids = uniq_ids[:n_session]\n",
    "            train_ids = uniq_ids[n_session:]\n",
    "            nb_df_train = pd.concat([nb_df.loc[nb_df['id'] == itrain].reset_index(drop=True) for itrain in train_inds], axis=0)\n",
    "            nb_df_test = pd.concat([nb_df.loc[nb_df['id'] == itest].reset_index(drop=True) for itest in test_inds], axis=0)\n",
    "            nb_df_train.drop(columns='id')\n",
    "            nb_df_test.drop(columns='id')\n",
    "        return nb_df_train, nb_df_test \n",
    "    \n",
    "    def get_decoding_label(self, nb_df, endog):\n",
    "        # Returns the endogenous variable, or in other words: the y response vector\n",
    "        return nb_df[endog]\n",
    "    \n",
    "    def set_col_keywords(self, col_kws):\n",
    "        self.col_kws = col_kws\n",
    "    \n",
    "    def get_design_matrix(self, nb_df, dropna=True):\n",
    "        # use Preprocessor if needed\n",
    "        # col_kws: list of keywords use to filter column names\n",
    "        nbdf_nc = self.nbm.get_aligned_neural_columns(nb_df).reset_index(drop=True)\n",
    "        col_kws = self.col_kws\n",
    "        if col_kws is not None:\n",
    "            selected_cols = []\n",
    "            for ckw in col_kws:\n",
    "                selected_cols.append([col for col in nbdf_nc.columns if ckw in col])\n",
    "            selected_cols = list(np.concatenate(selected_cols))\n",
    "            nbdf_nc = nbdf_nc[selected_cols]\n",
    "        if dropna:\n",
    "            nonan_sel = np.all(~nbdf_nc.isnull(), axis=1)\n",
    "            return nbdf_nc, nonan_sel\n",
    "        return nbdf_nc"
   ]
  },
  {
   "cell_type": "code",
   "execution_count": null,
   "metadata": {},
   "outputs": [],
   "source": [
    "# NOT SURE OF EXACT PARTS THAT NEED TO BE EDITED\n",
    "from sklearn.metrics import f1_score, balanced_accuracy_score, accuracy_score\n",
    "from sklearn.inspection import permutation_importance\n",
    "event_windows = {'exit_neur{t-1}': [0, 1], 'tone_onset_neur': [-0.2, 0.3], 'T_Entry_neur': [-1, 1]}\n",
    "rr_decode = RR_Decoding(data_root, nb_df_merged[nb_df_merged['animal'] == 'RRM031'].reset_index(drop=True))\n",
    "rr_decode.set_col_keywords(['LH--'])\n",
    "nb_df_train, nb_df_test = rr_decode.divide_to_train_test(rr_decode.nb_df)\n",
    "X_model, nonan_sel = rr_decode.get_design_matrix(nb_df_train)\n",
    "y_model = rr_decode.get_decoding_label(nb_df_train, 'accept')\n",
    "X_model = filter_columns(X_model, event_windows)\n",
    "rfclf = RandomForestClassifier(n_estimators=1000, random_state=rr_decode.RAND).fit(X_model[nonan_sel].values, y_model[nonan_sel].values)\n",
    "\n",
    "X_test, nonan_test = rr_decode.get_design_matrix(nb_df_test)\n",
    "y_test = rr_decode.get_decoding_label(nb_df_test, 'accept')[nonan_test]\n",
    "y_hat = rfclf.predict(filter_columns(X_test, event_windows)[nonan_test].values)\n",
    "# y_hat = rfclf.predict(rr_decode.get_design_matrix(nb_df_test).values)\n",
    "print(balanced_accuracy_score(y_test, y_hat), roc_auc_score(y_test, y_hat), \n",
    "      f1_score(y_test, y_hat), accuracy_score(y_test, y_hat))"
   ]
  }
 ],
 "metadata": {
  "kernelspec": {
   "display_name": "Python 3",
   "language": "python",
   "name": "python3"
  },
  "language_info": {
   "codemirror_mode": {
    "name": "ipython",
    "version": 3
   },
   "file_extension": ".py",
   "mimetype": "text/x-python",
   "name": "python",
   "nbconvert_exporter": "python",
   "pygments_lexer": "ipython3",
   "version": "3.7.6"
  }
 },
 "nbformat": 4,
 "nbformat_minor": 4
}
